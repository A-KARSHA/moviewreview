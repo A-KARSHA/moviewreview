{
  "nbformat": 4,
  "nbformat_minor": 0,
  "metadata": {
    "colab": {
      "private_outputs": true,
      "provenance": []
    },
    "kernelspec": {
      "name": "python3",
      "display_name": "Python 3"
    },
    "language_info": {
      "name": "python"
    }
  },
  "cells": [
    {
      "cell_type": "code",
      "source": [
        "import pandas as pd\n",
        "import numpy as np\n",
        "import sys"
      ],
      "metadata": {
        "id": "m1yPx9NBaDwk"
      },
      "execution_count": null,
      "outputs": []
    },
    {
      "cell_type": "code",
      "source": [
        "## Mount the Google Drive folder for accessing data etc\n",
        "if('google.colab' in sys.modules):\n",
        "    from google.colab import drive\n",
        "    drive.mount('/content/drive', force_remount = True)\n",
        "    # Change path below starting from /content/drive/MyDrive/Colab Notebooks/\n",
        "    # depending on how data is organized inside your Colab Notebooks folder in\n",
        "    # Google Drive\n",
        "    DIR = '/content/drive/MyDrive/Colab Notebooks/ALA_assign'\n",
        "    DATA_DIR = DIR+'/Data/'\n",
        "else:\n",
        "    DATA_DIR='Data/'"
      ],
      "metadata": {
        "id": "CEPkQUXQaHUW"
      },
      "execution_count": null,
      "outputs": []
    },
    {
      "cell_type": "code",
      "source": [
        "FILENAME = DATA_DIR + 'moviereviews.csv'\n",
        "df = pd.read_csv(FILENAME)\n",
        "df.head()"
      ],
      "metadata": {
        "id": "zlYP599saRcJ"
      },
      "execution_count": null,
      "outputs": []
    },
    {
      "cell_type": "code",
      "source": [
        "# Create a dictionary to store movie review vectors\n",
        "movie_vectors = {}\n",
        "\n",
        "# Calculate movie review vectors\n",
        "for index, row in df.iterrows():\n",
        "    movie = row['movie']\n",
        "    review = row['review']\n",
        "    words = review.split()\n",
        "    vector = np.zeros(300)  # Assuming review vectors are of size 300\n",
        "    for word in words:\n",
        "        # Add word vectors to the movie vector (you might need pretrained word vectors for accurate results)\n",
        "    #vector += word_vectors[word]  # You need to have pre-trained word vectors for this step\n",
        "     movie_vectors[movie] = vector\n",
        "\n",
        "# Calculate similarity using dot product formula\n",
        "def calculate_similarity_dot(movie1, movie2):\n",
        "    return np.dot(movie_vectors[movie1], movie_vectors[movie2])\n",
        "\n",
        "# Calculate similarity using manual multiplication and addition\n",
        "def calculate_similarity_manual(movie1, movie2):\n",
        "    return sum(movie_vectors[movie1] * movie_vectors[movie2])\n",
        "\n",
        "# Calculate the angle between two vectors in degrees\n",
        "def calculate_angle(movie1, movie2):\n",
        "    dot_product = calculate_similarity_dot(movie1, movie2)\n",
        "    magnitude_product = np.linalg.norm(movie_vectors[movie1]) * np.linalg.norm(movie_vectors[movie2])\n",
        "    cosine_similarity = dot_product / magnitude_product\n",
        "    angle_rad = np.arccos(cosine_similarity)\n",
        "    return np.degrees(angle_rad)\n",
        "\n",
        "# Find top 3 similar movie pairs\n",
        "similar_pairs = []\n",
        "for i, movie1 in enumerate(movie_vectors):\n",
        "    for j, movie2 in enumerate(movie_vectors):\n",
        "        if i < j:\n",
        "            similarity = calculate_similarity_dot(movie1, movie2)\n",
        "            angle = calculate_angle(movie1, movie2)\n",
        "            similar_pairs.append((movie1, movie2, similarity, angle))\n",
        "\n",
        "# Sort the similar pairs by similarity\n",
        "similar_pairs.sort(key=lambda x: x[2], reverse=True)\n",
        "\n",
        "# Print the top 3 similar movie pairs\n",
        "print(\"Top 3 similar movie pairs:\")\n",
        "for pair in similar_pairs[:3]:\n",
        "    print(f\"{pair[0]} - {pair[1]}: Similarity = {pair[2]}, Angle = {pair[3]} degrees\")\n"
      ],
      "metadata": {
        "id": "PxRJcPakb54K"
      },
      "execution_count": null,
      "outputs": []
    },
    {
      "cell_type": "code",
      "source": [],
      "metadata": {
        "id": "JmLAye7DqTCH"
      },
      "execution_count": null,
      "outputs": []
    },
    {
      "cell_type": "code",
      "source": [],
      "metadata": {
        "id": "FtqeulqZqcB5"
      },
      "execution_count": null,
      "outputs": []
    }
  ]
}